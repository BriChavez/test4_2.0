{
 "cells": [
  {
   "cell_type": "code",
   "execution_count": null,
   "metadata": {},
   "outputs": [],
   "source": []
  },
  {
   "cell_type": "code",
   "execution_count": null,
   "metadata": {},
   "outputs": [],
   "source": [
    "import pandas as pd\n",
    "from glob import glob\n",
    "import logging \n",
    "import sys\n",
    "import warnings\n",
    "from logging import INFO\n",
    "\n",
    "\n",
    "# setup logging and logger\n",
    "logging.basicConfig(format='[%(levelname)-5s][%(asctime)s][%(module)s:%(lineno)04d] : %(message)s',\n",
    "                    level=INFO,\n",
    "                    stream=sys.stderr)\n",
    "logger: logging.Logger = logging\n"
   ]
  },
  {
   "cell_type": "code",
   "execution_count": null,
   "metadata": {},
   "outputs": [],
   "source": [
    "class DataLoader():\n",
    "    def __init__(self, filepath, index = None, multi_file_load = False) -> None:\n",
    "        df = pd.read_csv(filepath, header = 0)\n",
    "    # load a file into a csv\n",
    "    # set index if specified\n",
    "        if index is None:\n",
    "            df = pd.set_index(index)\n",
    "        self.df = df"
   ]
  },
  {
   "cell_type": "code",
   "execution_count": null,
   "metadata": {},
   "outputs": [],
   "source": [
    "# utility to expose the info method of our data frame onto our base class\n",
    "def info(self):\n",
    "    \"\"\"bind info to our dataframe\"\"\"\n",
    "    return self.df.info"
   ]
  },
  {
   "cell_type": "code",
   "execution_count": null,
   "metadata": {},
   "outputs": [],
   "source": [
    "# if our data doesnt alread have one, this is a function that creates an index from a concat of columns as a list as well is an optional name for index\n",
    "def add_index(self, col_list, index_name=\"index\") -> None:\n",
    "    \"\"\"create an index column by concating s list of columns into a string\"\"\"\n",
    "    df = self.df\n",
    "    # summon our logger buddy so he can later let us know when we make an index and what we named him\n",
    "    logger.info(f\"\\tAdding inex {index_name}\")\n",
    "    # concats cols in col_list into an index column to serve us faithfully as our loyal primary key\n",
    "    df[index_name] = df[col_list].apply(\n",
    "        lambda row: \"-\".join(row.values.astype(str)), axis=1)\n",
    "    df.set_index(index_name, inplace=True)\n",
    "    self.df = df\n",
    "    # this gives us the ability to add an index when one is not present\n"
   ]
  },
  {
   "cell_type": "code",
   "execution_count": null,
   "metadata": {},
   "outputs": [],
   "source": [
    "    # hey, now lets add some more specific class functions onto this kid. lets give him a data checking util. \n",
    "    # first, give it a bool that will raise a flag for us that says True if we have info in one column that is not in the next\n",
    "    #   by the way, this is a function that is part of a class, so it wil be drawing that classes file path, while this function pulls data from a different data set. then we columns of the two\n",
    "    def BoolKid(self, data_file) -> None:\n",
    "        \"\"\"i dont know what this does yet\"\"\"\n",
    "        # this gets the data from the class\n",
    "        df = self.df\n",
    "        route_df = route_data.df.copy"
   ]
  },
  {
   "cell_type": "code",
   "execution_count": null,
   "metadata": {},
   "outputs": [],
   "source": [
    "# utility to expose the info method of our data frame onto our base class\n",
    "def info(self):\n",
    "    \"\"\"bind info to our dataframe\"\"\"\n",
    "    return self.df.info"
   ]
  },
  {
   "cell_type": "code",
   "execution_count": null,
   "metadata": {},
   "outputs": [],
   "source": [
    "    # hey, now lets add some more specific class functions onto this kid. lets give him a data checking util. \n",
    "    # first, give it a bool that will raise a flag for us that says True if we have info in one column that is not in the next\n",
    "    #   by the way, this is a function that is part of a class, so it wil be drawing that classes file path, while this function pulls data from a different data set. then we columns of the two\n",
    "    def BoolKid(self, data_file) -> None:\n",
    "        \"\"\"i dont fully know what this does yet\"\"\"\n",
    "        # this gets the data from the class\n",
    "        df = self.df\n",
    "        route_df = route_data.df.copy"
   ]
  },
  {
   "cell_type": "code",
   "execution_count": null,
   "metadata": {},
   "outputs": [],
   "source": [
    "# SUBCLASSES!\n",
    "#     these are cool cause they give us the ability to use this class to load other data with our \"template\" aka big class, but all these can change the default setting to fit their needs\n",
    "#     use the __init__ method to do this \n"
   ]
  },
  {
   "cell_type": "code",
   "execution_count": null,
   "metadata": {},
   "outputs": [],
   "source": [
    "class DataLoadSomethingElse(DataLoader):\n",
    "    def __init__(self, filepath,index = 'iata', multi_file_load = Flase) -> None:\n",
    "        # the top one is the parent class defaults, the super is the one we are using\n",
    "        super().__init__(filepath, index = index, multi_file_load = multi_file_load)\n",
    "        # if it is in datetime you add this code and you can adjust the datetime format\n",
    "        self.df['theNameOfTheDateTimeClolumn'] = pd.to_datetime(self.df['theNameOfTheDateTimeColumn'], format = \"%Y-%m-%d\")"
   ]
  }
 ],
 "metadata": {
  "language_info": {
   "name": "python"
  },
  "orig_nbformat": 4
 },
 "nbformat": 4,
 "nbformat_minor": 2
}
